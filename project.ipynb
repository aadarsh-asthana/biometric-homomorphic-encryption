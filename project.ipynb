{
 "cells": [
  {
   "cell_type": "code",
   "execution_count": 32,
   "metadata": {},
   "outputs": [],
   "source": [
    "import random\n",
    "import Crypto\n",
    "import math\n",
    "import sys\n",
    "\n",
    "class Server:\n",
    " \n",
    "    def __init__(self, ppkc,x_ctext, y_ctext):\n",
    "        self.ppkc = ppkc\n",
    "        self.x_ctext = x_ctext\n",
    "        self.y_ctext = y_ctext\n",
    "        self.l = 16\n",
    "        self.expl = int(2**self.l)\n",
    "        \n",
    "    def server_one(self):\n",
    "        z_ctext = [0,0]\n",
    "        d_ctext = [0,0]\n",
    "        z_ctext0 = [0,0]\n",
    "        r_ptext = random.randint(0,expl-1)\n",
    "        r_ctext = pailliermodencrypt(r_ptext,self.ppkc)\n",
    "        z_ctext0[1] = ((pailliermodencrypt(self.expl,self.ppkc))[1]*self.x_ctext[1])%(self.ppkc[0]**2)\n",
    "        z_ctext[1] =(z_ctext0[1]*pow(self.y_ctext[1],-1,self.ppkc[0]**2))%(self.ppkc[0]**2)\n",
    "        z_ctext0[0] = ((pailliermodencrypt(self.expl,self.ppkc))[0]*self.x_ctext[0])%(self.ppkc[0]**2)\n",
    "        z_ctext[0] = (z_ctext0[0]*pow(self.y_ctext[0],-1,self.ppkc[0]**2))%(self.ppkc[0]**2)\n",
    "        d_ctext[1] = (z_ctext[1]*r_ctext[1])%(self.ppkc[0]**2)\n",
    "        d_ctext[0] = (z_ctext[0]*r_ctext[0])%(self.ppkc[0]**2)\n",
    "        cap_r_ptext = r_ptext%self.expl\n",
    "        return r_ptext,d_ctext,cap_r_ptext,z_ctext\n",
    "    \n",
    "    def server_two(self, cap_r_ptext, z_ctext, lambda_ctext, cap_d_ctext):\n",
    "        b_ctext = [0,0]\n",
    "        b_ctext1 = [0,0]\n",
    "        b_ctext2 = [0,0]\n",
    "        cap_r_ctext = int(pailliermodencrypt(cap_r_ptext, self.ppkc)[1])\n",
    "        b = pow(lambda_ctext,self.expl,self.ppkc[0]**2)\n",
    "        c = pow(2, -self.l)\n",
    "        b_ctext1[1] = (z_ctext[1]*pow(cap_d_ctext[1], -1, self.ppkc[0]**2))%(self.ppkc[0]**2)\n",
    "        b_ctext1[0] = (z_ctext[0]*pow(cap_d_ctext[0], -1, self.ppkc[0]**2))%(self.ppkc[0]**2)\n",
    "        b_ctext2[1] = (b_ctext1[1] * cap_r_ctext)%(self.ppkc[0]**2)\n",
    "        b_ctext2[0] = (b_ctext1[0] * cap_r_ctext)%(self.ppkc[0]**2)\n",
    "        b_ctext[1] = (b_ctext2[1] * pow(b, -1, self.ppkc[0]**2))%(self.ppkc[0]**2)\n",
    "        b_ctext[0] = (b_ctext2[0] * pow(b, -1, self.ppkc[0]**2))%(self.ppkc[0]**2)\n",
    "        return b_ctext\n",
    "    \n",
    "class Client:\n",
    "\n",
    "    def __init__(self,ppkc,pskc,l,expl):\n",
    "        self.ppkc = ppkc\n",
    "        self.pskc = pskc\n",
    "        self.l = l\n",
    "        self.expl = expl\n",
    "    \n",
    "    def client_bitmin_one(self,d_ctext,cap_r_ptext):\n",
    "        d_ptext = int(pailliermoddecrypt(d_ctext,self.ppkc,self.pskc))\n",
    "        cap_d_ptext = d_ptext%self.expl\n",
    "        cap_d_ctext = [0,0]\n",
    "        cap_d_ctext[1] = int(pailliermodencrypt(cap_d_ptext,self.ppkc)[1])\n",
    "        cap_d_ctext[0] = int(pailliermodencrypt(cap_d_ptext,self.ppkc)[0])\n",
    "        lambda_ptext = int(cap_d_ptext < cap_r_ptext)\n",
    "        lambda_ctext = pailliermodencrypt(lambda_ptext,self.ppkc)\n",
    "        return d_ptext, cap_d_ctext, lambda_ctext\n",
    "\n",
    "def modInverse(a, p):\n",
    "    maxiter = int(1.0e+100)\n",
    "\n",
    "    if a == 0:\n",
    "        raise ValueError('0 has no inverse mod %d' % p)\n",
    "    r = int(a)\n",
    "    d = 1\n",
    "    for i in range(min(p, maxiter)):\n",
    "        d = ((int(p // r) + 1) * d) % p\n",
    "        r = int((d * a) % p)\n",
    "        if r == 1:\n",
    "            break\n",
    "    else:\n",
    "        raise ValueError('%d has no inverse mod %d' % (a, p))\n",
    "    return d\n",
    "         \n",
    "    \n",
    "def paillierkeygen():\n",
    "    while True:\n",
    "        p = random.getrandbits(24)\n",
    "        q = random.getrandbits(24)\n",
    "        if math.gcd(p*q,(p-1)*(q-1))==1 and isPrime(p) and isPrime(q):\n",
    "            break\n",
    "    n = p*q\n",
    "    print (p,q,n)\n",
    "\n",
    "    g = n + 1\n",
    "    phi = (p-1)*(q-1)\n",
    "    mu = pow(phi,-1, n)\n",
    "    pkc = [n,g]\n",
    "    skc = [phi,mu]\n",
    "    return pkc,skc\n",
    "\n",
    "\n",
    "def pailliermodkeygen():\n",
    "    while True:\n",
    "        a = random.getrandbits(20);\n",
    "        \n",
    "        if isPrime(a):\n",
    "            p = 2*a+1\n",
    "            if isPrime(p):\n",
    "                print(a)\n",
    "                print(p)\n",
    "                break\n",
    "    while True:\n",
    "        b = random.getrandbits(20);\n",
    "        q = 2*b+1;\n",
    "        if isPrime(b) and isPrime(q):\n",
    "            print(b)\n",
    "            print(q)\n",
    "            break\n",
    "    \n",
    "    n = p*q;\n",
    "    x = random.randint(1, math.floor(n*n/2));\n",
    "    \n",
    "    while 1:\n",
    "        k = random.randint(1, n*n);\n",
    "        if (math.gcd(k,n*n) == 1):\n",
    "            break\n",
    "    \n",
    "    g = pow(k,2*n,n)\n",
    "    print(g)\n",
    "    \n",
    "    h = pow(g,x,n*n)\n",
    "    pkc = [n,g,h]\n",
    "    \n",
    "    skc = x\n",
    "    sskc = [p,q]\n",
    "    return pkc, skc, sskc\n",
    "\n",
    "def paillierencrypt(ptext, pkc):\n",
    "    n = pkc[0]\n",
    "    while 1:\n",
    "        r = random.getrandbits(17)\n",
    "        if r < n and r > 0 and math.gcd(r,n) == 1 and isPrime(r):\n",
    "            break\n",
    "    g = pkc[1]\n",
    "    out = (pow(g,ptext,n*n)*(pow(r,n,n*n)))%(n*n)\n",
    "    return out\n",
    "\n",
    "def pailliermodencrypt(ptext,pkc):\n",
    "    r = random.randint(1,math.floor(pkc[0]/4))\n",
    "    t1 = pow(pkc[1],r,pkc[0]**2)\n",
    "    t2 = (pow(pkc[2],r,pkc[0]**2)*((1 + ptext*pkc[0])%(pkc[0]**2)))%(pkc[0]**2)\n",
    "    ctext = [t1,t2]\n",
    "    return ctext\n",
    "    \n",
    "def paillierdecrypt(ctext,pkc,skc):\n",
    "    n = pkc[0]\n",
    "    x = pow(ctext,skc[0],n*n) - 1\n",
    "    out = ((x//n)*skc[1]) % n\n",
    "    return out\n",
    "\n",
    "def pailliermoddecrypt(ctext,pkc,skc):\n",
    "    l = pow(ctext[0], skc, pkc[0]**2)\n",
    "    k = pow(l,-1,pkc[0]**2)\n",
    "    u = (ctext[1]*k)%(pkc[0]**2)\n",
    "    print(u)\n",
    "    print(u%pkc[0])\n",
    "    ptext = ((u - 1)/pkc[0])%(pkc[0]**2)\n",
    "    return ptext\n",
    "\n",
    "\n",
    "def isPrime(num):\n",
    "    if num > 1:\n",
    "        for i in range(2,num):\n",
    "            if (num % i) == 0:\n",
    "                return False\n",
    "                break\n",
    "        else:\n",
    "            return True\n",
    "    else:\n",
    "        return False\n",
    "    \n"
   ]
  },
  {
   "cell_type": "code",
   "execution_count": 33,
   "metadata": {},
   "outputs": [
    {
     "name": "stdout",
     "output_type": "stream",
     "text": [
      "756149\n",
      "1512299\n",
      "73823\n",
      "147647\n",
      "222552327713\n"
     ]
    }
   ],
   "source": [
    "mpkc, mskc, msskc = pailliermodkeygen()"
   ]
  },
  {
   "cell_type": "code",
   "execution_count": 34,
   "metadata": {},
   "outputs": [
    {
     "name": "stdout",
     "output_type": "stream",
     "text": [
      "[11952444277153118455394, 6124781696638461329905]\n"
     ]
    }
   ],
   "source": [
    "ptext1 = 67\n",
    "ctext1 = pailliermodencrypt(ptext1,mpkc)\n",
    "print(ctext1)"
   ]
  },
  {
   "cell_type": "code",
   "execution_count": 35,
   "metadata": {},
   "outputs": [],
   "source": [
    "ptext2 = 26\n",
    "ctext2 = pailliermodencrypt(ptext2,mpkc)"
   ]
  },
  {
   "cell_type": "code",
   "execution_count": 36,
   "metadata": {},
   "outputs": [],
   "source": [
    "ptext3 = 65\n",
    "ctext3 = pailliermodencrypt(ptext3,mpkc)"
   ]
  },
  {
   "cell_type": "code",
   "execution_count": 37,
   "metadata": {},
   "outputs": [],
   "source": [
    "ctext = [0,0]\n",
    "ctext0 = [0,0]\n",
    "\n",
    "ctext[1]= (ctext1[1] * pow(ctext2[1],-1,mpkc[0]**2) )%(mpkc[0]**2)\n",
    "ctext0[1] = (ctext[1] * ctext3[1]) % (mpkc[0] ** 2)\n",
    "ctext[0]= (ctext1[0] * pow(ctext2[0],-1,mpkc[0]**2))%(mpkc[0]**2)\n",
    "ctext0[0] = (ctext[0] * ctext3[0]) % (mpkc[0]**2)"
   ]
  },
  {
   "cell_type": "code",
   "execution_count": 38,
   "metadata": {},
   "outputs": [
    {
     "name": "stdout",
     "output_type": "stream",
     "text": [
      "23668359508019\n",
      "1\n"
     ]
    }
   ],
   "source": [
    "x = pailliermoddecrypt(ctext0,mpkc,mskc)"
   ]
  },
  {
   "cell_type": "code",
   "execution_count": 39,
   "metadata": {},
   "outputs": [
    {
     "data": {
      "text/plain": [
       "106.0"
      ]
     },
     "execution_count": 39,
     "metadata": {},
     "output_type": "execute_result"
    }
   ],
   "source": [
    "x%mpkc[0]"
   ]
  },
  {
   "cell_type": "code",
   "execution_count": null,
   "metadata": {},
   "outputs": [],
   "source": []
  },
  {
   "cell_type": "code",
   "execution_count": 40,
   "metadata": {},
   "outputs": [
    {
     "ename": "NameError",
     "evalue": "name 'pskc' is not defined",
     "output_type": "error",
     "traceback": [
      "\u001b[0;31m---------------------------------------------------------------------------\u001b[0m",
      "\u001b[0;31mNameError\u001b[0m                                 Traceback (most recent call last)",
      "\u001b[0;32m<ipython-input-40-6d4608ddecdd>\u001b[0m in \u001b[0;36m<module>\u001b[0;34m\u001b[0m\n\u001b[0;32m----> 1\u001b[0;31m \u001b[0mpskc\u001b[0m\u001b[0;34m\u001b[0m\u001b[0;34m\u001b[0m\u001b[0m\n\u001b[0m",
      "\u001b[0;31mNameError\u001b[0m: name 'pskc' is not defined"
     ]
    }
   ],
   "source": [
    "pskc"
   ]
  },
  {
   "cell_type": "code",
   "execution_count": 41,
   "metadata": {
    "scrolled": false
   },
   "outputs": [],
   "source": [
    "#x_ptext = random.getrandbits(16)\n",
    "#y_ptext = random.getrandbits(16)"
   ]
  },
  {
   "cell_type": "code",
   "execution_count": 42,
   "metadata": {},
   "outputs": [],
   "source": [
    "x_ptext = 100 - 92\n",
    "y_ptext = 3"
   ]
  },
  {
   "cell_type": "code",
   "execution_count": 43,
   "metadata": {},
   "outputs": [],
   "source": [
    "x_ctext = pailliermodencrypt(x_ptext,mpkc)\n",
    "y_ctext = pailliermodencrypt(y_ptext,mpkc)"
   ]
  },
  {
   "cell_type": "code",
   "execution_count": 44,
   "metadata": {},
   "outputs": [
    {
     "data": {
      "text/plain": [
       "[21989134185600873184252, 42454156496198085280507]"
      ]
     },
     "execution_count": 44,
     "metadata": {},
     "output_type": "execute_result"
    }
   ],
   "source": [
    "x_ctext"
   ]
  },
  {
   "cell_type": "code",
   "execution_count": 45,
   "metadata": {},
   "outputs": [],
   "source": [
    "s = Server(mpkc,x_ctext,y_ctext)"
   ]
  },
  {
   "cell_type": "code",
   "execution_count": 46,
   "metadata": {},
   "outputs": [],
   "source": [
    "l = s.l\n",
    "expl = s.expl"
   ]
  },
  {
   "cell_type": "code",
   "execution_count": 47,
   "metadata": {},
   "outputs": [
    {
     "name": "stdout",
     "output_type": "stream",
     "text": [
      "65541\n"
     ]
    }
   ],
   "source": [
    "z_ptext = (expl + x_ptext - y_ptext)%mpkc[0]\n",
    "print(z_ptext)"
   ]
  },
  {
   "cell_type": "code",
   "execution_count": 48,
   "metadata": {},
   "outputs": [],
   "source": [
    "c = Client(mpkc,mskc,l,expl)"
   ]
  },
  {
   "cell_type": "code",
   "execution_count": 49,
   "metadata": {},
   "outputs": [],
   "source": [
    "r_ptext,d_ctext,cap_r_ptext, z_ctext = s.server_one()"
   ]
  },
  {
   "cell_type": "code",
   "execution_count": 50,
   "metadata": {},
   "outputs": [
    {
     "data": {
      "text/plain": [
       "75283"
      ]
     },
     "execution_count": 50,
     "metadata": {},
     "output_type": "execute_result"
    }
   ],
   "source": [
    "(r_ptext+z_ptext)%mpkc[0]"
   ]
  },
  {
   "cell_type": "code",
   "execution_count": 51,
   "metadata": {
    "scrolled": true
   },
   "outputs": [
    {
     "name": "stdout",
     "output_type": "stream",
     "text": [
      "18021711334591620624304\n",
      "123024358582\n"
     ]
    },
    {
     "data": {
      "text/plain": [
       "80711187474.55096"
      ]
     },
     "execution_count": 51,
     "metadata": {},
     "output_type": "execute_result"
    }
   ],
   "source": [
    "pailliermoddecrypt(z_ctext,mpkc,mskc)"
   ]
  },
  {
   "cell_type": "code",
   "execution_count": 31,
   "metadata": {},
   "outputs": [
    {
     "data": {
      "text/plain": [
       "4"
      ]
     },
     "execution_count": 31,
     "metadata": {},
     "output_type": "execute_result"
    }
   ],
   "source": [
    "x_ptext.bit_length()"
   ]
  },
  {
   "cell_type": "code",
   "execution_count": 52,
   "metadata": {},
   "outputs": [
    {
     "data": {
      "text/plain": [
       "30476739101239848248838"
      ]
     },
     "execution_count": 52,
     "metadata": {},
     "output_type": "execute_result"
    }
   ],
   "source": [
    "(pailliermodencrypt(s.expl,mpkc)[1] * s.x_ctext[1] ) % (mpkc[0]**2)"
   ]
  },
  {
   "cell_type": "code",
   "execution_count": 53,
   "metadata": {},
   "outputs": [
    {
     "data": {
      "text/plain": [
       "25518151957805307273441"
      ]
     },
     "execution_count": 53,
     "metadata": {},
     "output_type": "execute_result"
    }
   ],
   "source": [
    "(30476739101239848248838* pow(y_ctext[1],-1,s.ppkc[0]**2)) % (mpkc[0]**2)"
   ]
  },
  {
   "cell_type": "code",
   "execution_count": 54,
   "metadata": {},
   "outputs": [
    {
     "data": {
      "text/plain": [
       "15242274743353040489924"
      ]
     },
     "execution_count": 54,
     "metadata": {},
     "output_type": "execute_result"
    }
   ],
   "source": [
    "(pailliermodencrypt(s.expl,mpkc)[0] * s.x_ctext[0] ) % (mpkc[0]**2)"
   ]
  },
  {
   "cell_type": "code",
   "execution_count": 55,
   "metadata": {},
   "outputs": [
    {
     "data": {
      "text/plain": [
       "1393293223089498974248"
      ]
     },
     "execution_count": 55,
     "metadata": {},
     "output_type": "execute_result"
    }
   ],
   "source": [
    "(15242274743353040489924* pow(y_ctext[0],-1,s.ppkc[0]**2))% (mpkc[0]**2)"
   ]
  },
  {
   "cell_type": "code",
   "execution_count": 56,
   "metadata": {},
   "outputs": [
    {
     "name": "stdout",
     "output_type": "stream",
     "text": [
      "12875942714903835636646\n",
      "147344289274\n"
     ]
    },
    {
     "data": {
      "text/plain": [
       "57665590524.65989"
      ]
     },
     "execution_count": 56,
     "metadata": {},
     "output_type": "execute_result"
    }
   ],
   "source": [
    "pailliermoddecrypt([1393293223089498974248,25518151957805307273441],mpkc, mskc)"
   ]
  },
  {
   "cell_type": "code",
   "execution_count": 76,
   "metadata": {},
   "outputs": [
    {
     "name": "stdout",
     "output_type": "stream",
     "text": [
      "782465549277756162578057\n",
      "4520670712\n"
     ]
    }
   ],
   "source": [
    "d_ptext, cap_d_ctext, lambda_ctext= c.client_bitmin_one(d_ctext,cap_r_ptext)"
   ]
  },
  {
   "cell_type": "code",
   "execution_count": 77,
   "metadata": {},
   "outputs": [
    {
     "ename": "TypeError",
     "evalue": "unsupported operand type(s) for pow(): 'list', 'int', 'int'",
     "output_type": "error",
     "traceback": [
      "\u001b[0;31m---------------------------------------------------------------------------\u001b[0m",
      "\u001b[0;31mTypeError\u001b[0m                                 Traceback (most recent call last)",
      "\u001b[0;32m<ipython-input-77-a4c935863c2d>\u001b[0m in \u001b[0;36m<module>\u001b[0;34m\u001b[0m\n\u001b[0;32m----> 1\u001b[0;31m \u001b[0mb_ctext\u001b[0m \u001b[0;34m=\u001b[0m \u001b[0ms\u001b[0m\u001b[0;34m.\u001b[0m\u001b[0mserver_two\u001b[0m\u001b[0;34m(\u001b[0m\u001b[0mcap_r_ptext\u001b[0m\u001b[0;34m,\u001b[0m \u001b[0mz_ctext\u001b[0m\u001b[0;34m,\u001b[0m \u001b[0mlambda_ctext\u001b[0m\u001b[0;34m,\u001b[0m \u001b[0mcap_d_ctext\u001b[0m\u001b[0;34m)\u001b[0m\u001b[0;34m\u001b[0m\u001b[0;34m\u001b[0m\u001b[0m\n\u001b[0m",
      "\u001b[0;32m<ipython-input-55-85ec53585fd1>\u001b[0m in \u001b[0;36mserver_two\u001b[0;34m(self, cap_r_ptext, z_ctext, lambda_ctext, cap_d_ctext)\u001b[0m\n\u001b[1;32m     31\u001b[0m         \u001b[0mb_ctext2\u001b[0m \u001b[0;34m=\u001b[0m \u001b[0;34m[\u001b[0m\u001b[0;36m0\u001b[0m\u001b[0;34m,\u001b[0m\u001b[0;36m0\u001b[0m\u001b[0;34m]\u001b[0m\u001b[0;34m\u001b[0m\u001b[0;34m\u001b[0m\u001b[0m\n\u001b[1;32m     32\u001b[0m         \u001b[0mcap_r_ctext\u001b[0m \u001b[0;34m=\u001b[0m \u001b[0mint\u001b[0m\u001b[0;34m(\u001b[0m\u001b[0mpailliermodencrypt\u001b[0m\u001b[0;34m(\u001b[0m\u001b[0mcap_r_ptext\u001b[0m\u001b[0;34m,\u001b[0m \u001b[0mself\u001b[0m\u001b[0;34m.\u001b[0m\u001b[0mppkc\u001b[0m\u001b[0;34m)\u001b[0m\u001b[0;34m[\u001b[0m\u001b[0;36m1\u001b[0m\u001b[0;34m]\u001b[0m\u001b[0;34m)\u001b[0m\u001b[0;34m\u001b[0m\u001b[0;34m\u001b[0m\u001b[0m\n\u001b[0;32m---> 33\u001b[0;31m         \u001b[0mb\u001b[0m \u001b[0;34m=\u001b[0m \u001b[0mpow\u001b[0m\u001b[0;34m(\u001b[0m\u001b[0mlambda_ctext\u001b[0m\u001b[0;34m,\u001b[0m\u001b[0mself\u001b[0m\u001b[0;34m.\u001b[0m\u001b[0mexpl\u001b[0m\u001b[0;34m,\u001b[0m\u001b[0mself\u001b[0m\u001b[0;34m.\u001b[0m\u001b[0mppkc\u001b[0m\u001b[0;34m[\u001b[0m\u001b[0;36m0\u001b[0m\u001b[0;34m]\u001b[0m\u001b[0;34m**\u001b[0m\u001b[0;36m2\u001b[0m\u001b[0;34m)\u001b[0m\u001b[0;34m\u001b[0m\u001b[0;34m\u001b[0m\u001b[0m\n\u001b[0m\u001b[1;32m     34\u001b[0m         \u001b[0mc\u001b[0m \u001b[0;34m=\u001b[0m \u001b[0mpow\u001b[0m\u001b[0;34m(\u001b[0m\u001b[0;36m2\u001b[0m\u001b[0;34m,\u001b[0m \u001b[0;34m-\u001b[0m\u001b[0mself\u001b[0m\u001b[0;34m.\u001b[0m\u001b[0ml\u001b[0m\u001b[0;34m)\u001b[0m\u001b[0;34m\u001b[0m\u001b[0;34m\u001b[0m\u001b[0m\n\u001b[1;32m     35\u001b[0m         \u001b[0mb_ctext1\u001b[0m\u001b[0;34m[\u001b[0m\u001b[0;36m1\u001b[0m\u001b[0;34m]\u001b[0m \u001b[0;34m=\u001b[0m \u001b[0;34m(\u001b[0m\u001b[0mz_ctext\u001b[0m\u001b[0;34m[\u001b[0m\u001b[0;36m1\u001b[0m\u001b[0;34m]\u001b[0m\u001b[0;34m*\u001b[0m\u001b[0mpow\u001b[0m\u001b[0;34m(\u001b[0m\u001b[0mcap_d_ctext\u001b[0m\u001b[0;34m[\u001b[0m\u001b[0;36m1\u001b[0m\u001b[0;34m]\u001b[0m\u001b[0;34m,\u001b[0m \u001b[0;34m-\u001b[0m\u001b[0;36m1\u001b[0m\u001b[0;34m,\u001b[0m \u001b[0mself\u001b[0m\u001b[0;34m.\u001b[0m\u001b[0mppkc\u001b[0m\u001b[0;34m[\u001b[0m\u001b[0;36m0\u001b[0m\u001b[0;34m]\u001b[0m\u001b[0;34m**\u001b[0m\u001b[0;36m2\u001b[0m\u001b[0;34m)\u001b[0m\u001b[0;34m)\u001b[0m\u001b[0;34m%\u001b[0m\u001b[0;34m(\u001b[0m\u001b[0mself\u001b[0m\u001b[0;34m.\u001b[0m\u001b[0mppkc\u001b[0m\u001b[0;34m[\u001b[0m\u001b[0;36m0\u001b[0m\u001b[0;34m]\u001b[0m\u001b[0;34m**\u001b[0m\u001b[0;36m2\u001b[0m\u001b[0;34m)\u001b[0m\u001b[0;34m\u001b[0m\u001b[0;34m\u001b[0m\u001b[0m\n",
      "\u001b[0;31mTypeError\u001b[0m: unsupported operand type(s) for pow(): 'list', 'int', 'int'"
     ]
    }
   ],
   "source": [
    "b_ctext = s.server_two(cap_r_ptext, z_ctext, lambda_ctext, cap_d_ctext)"
   ]
  },
  {
   "cell_type": "code",
   "execution_count": 78,
   "metadata": {},
   "outputs": [
    {
     "ename": "NameError",
     "evalue": "name 'b_ctext' is not defined",
     "output_type": "error",
     "traceback": [
      "\u001b[0;31m---------------------------------------------------------------------------\u001b[0m",
      "\u001b[0;31mNameError\u001b[0m                                 Traceback (most recent call last)",
      "\u001b[0;32m<ipython-input-78-63e4bcc0b894>\u001b[0m in \u001b[0;36m<module>\u001b[0;34m\u001b[0m\n\u001b[0;32m----> 1\u001b[0;31m \u001b[0mb_ctext\u001b[0m\u001b[0;34m\u001b[0m\u001b[0;34m\u001b[0m\u001b[0m\n\u001b[0m",
      "\u001b[0;31mNameError\u001b[0m: name 'b_ctext' is not defined"
     ]
    }
   ],
   "source": [
    "b_ctext"
   ]
  },
  {
   "cell_type": "code",
   "execution_count": 136,
   "metadata": {},
   "outputs": [
    {
     "name": "stdout",
     "output_type": "stream",
     "text": [
      "1517613036478887251\n",
      "112094020\n"
     ]
    }
   ],
   "source": [
    "b_ptext = pailliermoddecrypt(b_ctext, mpkc, mskc)"
   ]
  },
  {
   "cell_type": "code",
   "execution_count": 137,
   "metadata": {},
   "outputs": [
    {
     "data": {
      "text/plain": [
       "1194964123.0882626"
      ]
     },
     "execution_count": 137,
     "metadata": {},
     "output_type": "execute_result"
    }
   ],
   "source": [
    "b_ptext"
   ]
  },
  {
   "cell_type": "code",
   "execution_count": 138,
   "metadata": {},
   "outputs": [
    {
     "data": {
      "text/plain": [
       "False"
      ]
     },
     "execution_count": 138,
     "metadata": {},
     "output_type": "execute_result"
    }
   ],
   "source": [
    "x_ptext<y_ptext"
   ]
  },
  {
   "cell_type": "code",
   "execution_count": 139,
   "metadata": {},
   "outputs": [
    {
     "data": {
      "text/plain": [
       "37338"
      ]
     },
     "execution_count": 139,
     "metadata": {},
     "output_type": "execute_result"
    }
   ],
   "source": [
    "r_ptext"
   ]
  },
  {
   "cell_type": "code",
   "execution_count": 126,
   "metadata": {},
   "outputs": [
    {
     "data": {
      "text/plain": [
       "225"
      ]
     },
     "execution_count": 126,
     "metadata": {},
     "output_type": "execute_result"
    }
   ],
   "source": [
    "d_ptext"
   ]
  },
  {
   "cell_type": "code",
   "execution_count": 127,
   "metadata": {},
   "outputs": [
    {
     "data": {
      "text/plain": [
       "14"
      ]
     },
     "execution_count": 127,
     "metadata": {},
     "output_type": "execute_result"
    }
   ],
   "source": [
    "z_ptext"
   ]
  },
  {
   "cell_type": "code",
   "execution_count": 128,
   "metadata": {},
   "outputs": [
    {
     "data": {
      "text/plain": [
       "4494"
      ]
     },
     "execution_count": 128,
     "metadata": {},
     "output_type": "execute_result"
    }
   ],
   "source": [
    "(d_ptext-r_ptext)%expl"
   ]
  },
  {
   "cell_type": "code",
   "execution_count": 129,
   "metadata": {},
   "outputs": [
    {
     "data": {
      "text/plain": [
       "-61042"
      ]
     },
     "execution_count": 129,
     "metadata": {},
     "output_type": "execute_result"
    }
   ],
   "source": [
    "(d_ptext%expl-r_ptext%expl)+0"
   ]
  },
  {
   "cell_type": "code",
   "execution_count": 130,
   "metadata": {},
   "outputs": [
    {
     "data": {
      "text/plain": [
       "-13410"
      ]
     },
     "execution_count": 130,
     "metadata": {},
     "output_type": "execute_result"
    }
   ],
   "source": [
    "z_ptext-13424"
   ]
  },
  {
   "cell_type": "code",
   "execution_count": 29,
   "metadata": {},
   "outputs": [
    {
     "data": {
      "text/plain": [
       "131072"
      ]
     },
     "execution_count": 29,
     "metadata": {},
     "output_type": "execute_result"
    }
   ],
   "source": [
    "65536*2"
   ]
  },
  {
   "cell_type": "code",
   "execution_count": 30,
   "metadata": {},
   "outputs": [
    {
     "data": {
      "text/plain": [
       "131072"
      ]
     },
     "execution_count": 30,
     "metadata": {},
     "output_type": "execute_result"
    }
   ],
   "source": [
    "2**17"
   ]
  },
  {
   "cell_type": "code",
   "execution_count": null,
   "metadata": {},
   "outputs": [],
   "source": []
  }
 ],
 "metadata": {
  "kernelspec": {
   "display_name": "Python 3",
   "language": "python",
   "name": "python3"
  },
  "language_info": {
   "codemirror_mode": {
    "name": "ipython",
    "version": 3
   },
   "file_extension": ".py",
   "mimetype": "text/x-python",
   "name": "python",
   "nbconvert_exporter": "python",
   "pygments_lexer": "ipython3",
   "version": "3.8.5"
  },
  "widgets": {
   "application/vnd.jupyter.widget-state+json": {
    "state": {},
    "version_major": 1,
    "version_minor": 0
   }
  }
 },
 "nbformat": 4,
 "nbformat_minor": 4
}
